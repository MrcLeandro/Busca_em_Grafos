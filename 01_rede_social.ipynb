{
 "cells": [
  {
   "cell_type": "markdown",
   "id": "63cfb000",
   "metadata": {},
   "source": [
    "Cria uma classe Person"
   ]
  },
  {
   "cell_type": "code",
   "execution_count": 78,
   "id": "96209057",
   "metadata": {},
   "outputs": [],
   "source": [
    "import uuid\n",
    "from typing_extensions import Self\n",
    "from collections import deque\n",
    "import random\n",
    "import time\n",
    "import sys\n",
    "import os\n",
    "import pandas as pd\n",
    "\n",
    "# Caminho para a pasta raiz do projeto\n",
    "ROOT_DIR = os.path.abspath(os.path.join(os.getcwd(), '..'))\n",
    "sys.path.append(ROOT_DIR)"
   ]
  },
  {
   "cell_type": "code",
   "execution_count": 79,
   "id": "28a3a260",
   "metadata": {},
   "outputs": [],
   "source": [
    "class Person(object):\n",
    "\n",
    "    def __init__(self, uid, genre):\n",
    "        self._uid = uid\n",
    "        self._genre = genre\n",
    "\n",
    "    def get_uid(self):\n",
    "        return self._uid\n",
    "\n",
    "    def get_genre(self):\n",
    "        return self._genre"
   ]
  },
  {
   "cell_type": "markdown",
   "id": "5cd3e621",
   "metadata": {},
   "source": [
    "Cria a classe FriendNetwork com o número de membros (nós) e amizades(arcos) definidos no notebook main"
   ]
  },
  {
   "cell_type": "code",
   "execution_count": 80,
   "id": "ce795ed3",
   "metadata": {},
   "outputs": [],
   "source": [
    "class FriendNetwork(object):\n",
    "\n",
    "    def __init__(self, people_num, connections_num):\n",
    "        self._people_num = people_num\n",
    "        self._connections_num = connections_num\n",
    "        self._graph = self._generate_graph()\n",
    "\n",
    "    def _generate_graph(self):\n",
    "\n",
    "        people = []\n",
    "        for person_index in range(self._people_num):\n",
    "#Gera um UUID aleatório versão 4 e o converte para uma string\n",
    "            uid = str(uuid.uuid4()) \n",
    "            genre = 'female' if person_index % 2 else 'male'\n",
    "            people.append(Person(uid, genre))\n",
    "\n",
    "        conn_num = 0\n",
    "        graph = {}\n",
    "# criando um grafo auxiliar para agilizar algumas buscas\n",
    "        graph_aux = {}  \n",
    "\n",
    "# início - criando um caminho alternante\n",
    "\n",
    "# cria uma entrada no dicionário graph com a chave person_uid, e o valor associado a essa chave é um dicionário \n",
    "# contendo informações sobre a pessoa, incluindo o objeto Person correspondente e uma lista inicialmente\n",
    "# vazia para armazenar seus amigos.\n",
    "        person = people[conn_num]\n",
    "        person_uid = person.get_uid()\n",
    "        graph[person_uid] = {\n",
    "            'this': person,\n",
    "            'friends': []\n",
    "        }\n",
    "\n",
    "        graph_aux[person_uid] = {}\n",
    "\n",
    "#Como a lista people alterna seus elementos entre homem e mulher, ao preencher uma lista de amigos\n",
    " #de forma sequencial nesta lista será criado um caminho alternante\n",
    "        while conn_num < self._people_num - 1:\n",
    "            friend = people[conn_num + 1]\n",
    "            friend_uid = friend.get_uid()\n",
    "            graph[friend_uid] = {\n",
    "                'this': friend,\n",
    "                'friends': []\n",
    "            }\n",
    "            graph_aux[friend_uid] = {}\n",
    "\n",
    "#Adiciona os amigos na lista de uma pessoa e vice-vers e gera grafos auxiliares que indicam essas\n",
    " #relações entre eles como se fossem um matriz entre todas as pessoas em que o valor \"true\" indica \n",
    " #uma relação de amizade entre elas\n",
    "\n",
    "            graph[person_uid]['friends'].append(friend)\n",
    "            graph[friend_uid]['friends'].append(person)\n",
    "            graph_aux[person_uid][friend_uid] = True\n",
    "            graph_aux[friend_uid][person_uid] = True\n",
    "            conn_num += 1\n",
    "\n",
    "            person = friend\n",
    "            person_uid = friend_uid\n",
    "\n",
    "# fim - criando um caminho alternante\n",
    "\n",
    "#Escolhe aleatoriamente 2 pessoas na lista people, checa se não se tratam da mesma pessoa ou se já existe\n",
    "#  relação entre eles e caso negativo, adiciona a relação. Esta ação é realizada até que o número de arcos seja alcançado\n",
    "\n",
    "        while conn_num < self._connections_num:\n",
    "            person, friend = random.sample(people, 2)\n",
    "            person_uid = person.get_uid()\n",
    "            friend_uid = friend.get_uid()\n",
    "\n",
    "          \n",
    "            if person_uid not in graph:\n",
    "                graph[person_uid] = {\n",
    "                    'this': person,\n",
    "                    'friends': []\n",
    "                }\n",
    "# Criando um índice auxiliar para os vizinhos de cada vértice inserido no grafo\n",
    "\n",
    "                graph_aux[person_uid] = {}\n",
    "\n",
    "            if friend_uid not in graph:\n",
    "                graph[friend_uid] = {\n",
    "                    'this': friend,\n",
    "                    'friends': []\n",
    "                }\n",
    "\n",
    "# criando um índice auxiliar para os vizinhos de cada vértice inserido no grafo\n",
    "\n",
    "                graph_aux[friend_uid] = {}\n",
    "            \n",
    "            if person_uid == friend_uid or \\\n",
    "                    friend_uid in graph_aux[person_uid]:\n",
    "                continue\n",
    "\n",
    "            graph[person_uid]['friends'].append(friend)\n",
    "            graph[friend_uid]['friends'].append(person)\n",
    "\n",
    "# Adicionar vizinho também nos índices do grafo auxiliar\n",
    "\n",
    "            graph_aux[person_uid][friend_uid] = True\n",
    "            graph_aux[friend_uid][person_uid] = True\n",
    "            conn_num += 1\n",
    "        return graph\n",
    "        \n",
    "    def get_person_by_uid(self, uid):\n",
    "        return self._graph[uid]['this']\n",
    "\n",
    "#Algoritmo de busca em profundidade\n",
    "\n",
    "    def _search(self, person_uid, friend_uid):\n",
    "        self.person_uid = person_uid\n",
    "        self.friend_uid = friend_uid\n",
    "\n",
    "# iniciando os auxiliares da busca\n",
    "        color=dict()\n",
    "        predecessor=dict()\n",
    "        d=dict()\n",
    "        Q = deque()\n",
    "        C = 'C'\n",
    "        P = 'P'\n",
    "        B = 'B'\n",
    "        path = []\n",
    "\n",
    "        for u in self._graph:\n",
    "            color[u]= B\n",
    "            predecessor[u]= None\n",
    "            d[u]= None\n",
    "\n",
    " # realiza a busca entre person and friend sorteados e gera o caminho da busca\n",
    "\n",
    "        color[self.person_uid] = C\n",
    "        d[self.person_uid] = 0\n",
    "        Q.append(self.person_uid)\n",
    "\n",
    "        while Q[0] != self.friend_uid:\n",
    "          u = Q.popleft()\n",
    "          #if u == self.friend_uid:\n",
    "           # break\n",
    "          for v in self._graph[u]['friends']:\n",
    "            v_uid = v.get_uid()\n",
    "            v_genre = v.get_genre()\n",
    "            if color[v_uid] == B:\n",
    "             g = self._graph[u]['this'].get_genre()\n",
    "             if v_genre != g:\n",
    "              color[v_uid] = C\n",
    "              predecessor[v_uid] = u\n",
    "              d[v_uid] = d[u] + 1\n",
    "              Q.append(v_uid)\n",
    "          color[u] = P\n",
    "        path.append(self.friend_uid)\n",
    "        while path[-1] != self.person_uid:\n",
    "            path.append(predecessor[path[-1]])\n",
    "     # path.append(self.person_uid)\n",
    "        path.reverse()\n",
    "\n",
    "        return path\n",
    "    \n",
    "#Calcula o grau de separação entre dois amigos para o caminho de busca gerado na busca em profundidade        \n",
    "    def get_separation_degree(self):\n",
    "\n",
    "        total_paths_len = 0\n",
    "        for _ in range(100):\n",
    "            person_uid, friend_uid = random.sample([*self._graph.keys()], 2)\n",
    "            path = self._search(person_uid, friend_uid)\n",
    "            total_paths_len += len(path) - 1\n",
    "        for i in path:\n",
    "          person = self._graph[i]['this']\n",
    "          genre = person.get_genre()\n",
    "          #print(genre)\n",
    "        return total_paths_len / 100      "
   ]
  },
  {
   "cell_type": "markdown",
   "id": "67ea47bd",
   "metadata": {},
   "source": [
    "Código que passa o número de amigos (nós) e o número de relações de amizade (arcos do grafo)"
   ]
  },
  {
   "cell_type": "code",
   "execution_count": 81,
   "id": "9a6286e6",
   "metadata": {},
   "outputs": [
    {
     "name": "stdout",
     "output_type": "stream",
     "text": [
      "{'Grau de separação': [342.59], 'Tempo de cálculo': [1752932463.0552702]}\n"
     ]
    }
   ],
   "source": [
    "if __name__ == '__main__':\n",
    "    dfe = pd.read_csv(\"entradas.csv\")\n",
    "    friend_network = FriendNetwork(dfe.iloc[0,1],dfe.iloc[0,2])\n",
    "    s_time = time.time()\n",
    "    separation_degree = friend_network.get_separation_degree()\n",
    "    e_time = time.time()\n",
    "    resultados = {'Grau de separação':[separation_degree], 'Tempo de cálculo': [e_time]}\n",
    "    print(resultados)"
   ]
  },
  {
   "cell_type": "markdown",
   "id": "96185093",
   "metadata": {},
   "source": [
    "Mostra o grau médio de separação e o tempo gasto para calculá-lo"
   ]
  },
  {
   "cell_type": "code",
   "execution_count": 82,
   "id": "98fd87f6",
   "metadata": {},
   "outputs": [
    {
     "name": "stdout",
     "output_type": "stream",
     "text": [
      "Grau de separação: {342.59}\n",
      "Tempo = 0.15720319747924805\n"
     ]
    }
   ],
   "source": [
    "print(\"Grau de separação:\", {separation_degree})\n",
    "print(\"Tempo =\", e_time - s_time)"
   ]
  },
  {
   "cell_type": "markdown",
   "id": "645a540d",
   "metadata": {},
   "source": [
    "Exportar resultados para um arquivo .csv"
   ]
  },
  {
   "cell_type": "code",
   "execution_count": 83,
   "id": "b8208b78",
   "metadata": {},
   "outputs": [],
   "source": [
    "df = pd.DataFrame(resultados)\n",
    "df.to_csv('resultados.csv',index=False)"
   ]
  }
 ],
 "metadata": {
  "kernelspec": {
   "display_name": ".venv",
   "language": "python",
   "name": "python3"
  },
  "language_info": {
   "codemirror_mode": {
    "name": "ipython",
    "version": 3
   },
   "file_extension": ".py",
   "mimetype": "text/x-python",
   "name": "python",
   "nbconvert_exporter": "python",
   "pygments_lexer": "ipython3",
   "version": "3.11.8"
  }
 },
 "nbformat": 4,
 "nbformat_minor": 5
}
